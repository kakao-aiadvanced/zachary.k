{
 "cells": [
  {
   "cell_type": "code",
   "execution_count": 1,
   "id": "f512d011-101e-446f-ab47-027e3325e09a",
   "metadata": {},
   "outputs": [
    {
     "name": "stdout",
     "output_type": "stream",
     "text": [
      "Collecting openai\n",
      "  Downloading openai-1.43.0-py3-none-any.whl.metadata (22 kB)\n",
      "Collecting tiktoken\n",
      "  Downloading tiktoken-0.7.0-cp312-cp312-macosx_11_0_arm64.whl.metadata (6.6 kB)\n",
      "Requirement already satisfied: anyio<5,>=3.5.0 in /Users/zachary/.pyenv/versions/3.12.3/lib/python3.12/site-packages (from openai) (4.4.0)\n",
      "Collecting distro<2,>=1.7.0 (from openai)\n",
      "  Downloading distro-1.9.0-py3-none-any.whl.metadata (6.8 kB)\n",
      "Requirement already satisfied: httpx<1,>=0.23.0 in /Users/zachary/.pyenv/versions/3.12.3/lib/python3.12/site-packages (from openai) (0.27.2)\n",
      "Collecting jiter<1,>=0.4.0 (from openai)\n",
      "  Downloading jiter-0.5.0-cp312-cp312-macosx_11_0_arm64.whl.metadata (3.6 kB)\n",
      "Collecting pydantic<3,>=1.9.0 (from openai)\n",
      "  Downloading pydantic-2.8.2-py3-none-any.whl.metadata (125 kB)\n",
      "\u001b[2K     \u001b[38;2;114;156;31m━━━━━━━━━━━━━━━━━━━━━━━━━━━━━━━━━━━━━━━\u001b[0m \u001b[32m125.2/125.2 kB\u001b[0m \u001b[31m9.2 MB/s\u001b[0m eta \u001b[36m0:00:00\u001b[0m\n",
      "\u001b[?25hRequirement already satisfied: sniffio in /Users/zachary/.pyenv/versions/3.12.3/lib/python3.12/site-packages (from openai) (1.3.1)\n",
      "Collecting tqdm>4 (from openai)\n",
      "  Downloading tqdm-4.66.5-py3-none-any.whl.metadata (57 kB)\n",
      "\u001b[2K     \u001b[38;2;114;156;31m━━━━━━━━━━━━━━━━━━━━━━━━━━━━━━━━━━━━━━━━\u001b[0m \u001b[32m57.6/57.6 kB\u001b[0m \u001b[31m6.8 MB/s\u001b[0m eta \u001b[36m0:00:00\u001b[0m\n",
      "\u001b[?25hCollecting typing-extensions<5,>=4.11 (from openai)\n",
      "  Downloading typing_extensions-4.12.2-py3-none-any.whl.metadata (3.0 kB)\n",
      "Collecting regex>=2022.1.18 (from tiktoken)\n",
      "  Downloading regex-2024.7.24-cp312-cp312-macosx_11_0_arm64.whl.metadata (40 kB)\n",
      "\u001b[2K     \u001b[38;2;114;156;31m━━━━━━━━━━━━━━━━━━━━━━━━━━━━━━━━━━━━━━━━\u001b[0m \u001b[32m40.5/40.5 kB\u001b[0m \u001b[31m3.7 MB/s\u001b[0m eta \u001b[36m0:00:00\u001b[0m\n",
      "\u001b[?25hRequirement already satisfied: requests>=2.26.0 in /Users/zachary/.pyenv/versions/3.12.3/lib/python3.12/site-packages (from tiktoken) (2.32.3)\n",
      "Requirement already satisfied: idna>=2.8 in /Users/zachary/.pyenv/versions/3.12.3/lib/python3.12/site-packages (from anyio<5,>=3.5.0->openai) (3.8)\n",
      "Requirement already satisfied: certifi in /Users/zachary/.pyenv/versions/3.12.3/lib/python3.12/site-packages (from httpx<1,>=0.23.0->openai) (2024.8.30)\n",
      "Requirement already satisfied: httpcore==1.* in /Users/zachary/.pyenv/versions/3.12.3/lib/python3.12/site-packages (from httpx<1,>=0.23.0->openai) (1.0.5)\n",
      "Requirement already satisfied: h11<0.15,>=0.13 in /Users/zachary/.pyenv/versions/3.12.3/lib/python3.12/site-packages (from httpcore==1.*->httpx<1,>=0.23.0->openai) (0.14.0)\n",
      "Collecting annotated-types>=0.4.0 (from pydantic<3,>=1.9.0->openai)\n",
      "  Downloading annotated_types-0.7.0-py3-none-any.whl.metadata (15 kB)\n",
      "Collecting pydantic-core==2.20.1 (from pydantic<3,>=1.9.0->openai)\n",
      "  Downloading pydantic_core-2.20.1-cp312-cp312-macosx_11_0_arm64.whl.metadata (6.6 kB)\n",
      "Requirement already satisfied: charset-normalizer<4,>=2 in /Users/zachary/.pyenv/versions/3.12.3/lib/python3.12/site-packages (from requests>=2.26.0->tiktoken) (3.3.2)\n",
      "Requirement already satisfied: urllib3<3,>=1.21.1 in /Users/zachary/.pyenv/versions/3.12.3/lib/python3.12/site-packages (from requests>=2.26.0->tiktoken) (2.2.2)\n",
      "Downloading openai-1.43.0-py3-none-any.whl (365 kB)\n",
      "\u001b[2K   \u001b[38;2;114;156;31m━━━━━━━━━━━━━━━━━━━━━━━━━━━━━━━━━━━━━━━━\u001b[0m \u001b[32m365.7/365.7 kB\u001b[0m \u001b[31m20.5 MB/s\u001b[0m eta \u001b[36m0:00:00\u001b[0m\n",
      "\u001b[?25hDownloading tiktoken-0.7.0-cp312-cp312-macosx_11_0_arm64.whl (906 kB)\n",
      "\u001b[2K   \u001b[38;2;114;156;31m━━━━━━━━━━━━━━━━━━━━━━━━━━━━━━━━━━━━━━━━\u001b[0m \u001b[32m906.7/906.7 kB\u001b[0m \u001b[31m49.4 MB/s\u001b[0m eta \u001b[36m0:00:00\u001b[0m\n",
      "\u001b[?25hDownloading distro-1.9.0-py3-none-any.whl (20 kB)\n",
      "Downloading jiter-0.5.0-cp312-cp312-macosx_11_0_arm64.whl (296 kB)\n",
      "\u001b[2K   \u001b[38;2;114;156;31m━━━━━━━━━━━━━━━━━━━━━━━━━━━━━━━━━━━━━━━━\u001b[0m \u001b[32m297.0/297.0 kB\u001b[0m \u001b[31m24.9 MB/s\u001b[0m eta \u001b[36m0:00:00\u001b[0m\n",
      "\u001b[?25hDownloading pydantic-2.8.2-py3-none-any.whl (423 kB)\n",
      "\u001b[2K   \u001b[38;2;114;156;31m━━━━━━━━━━━━━━━━━━━━━━━━━━━━━━━━━━━━━━━━\u001b[0m \u001b[32m423.9/423.9 kB\u001b[0m \u001b[31m30.8 MB/s\u001b[0m eta \u001b[36m0:00:00\u001b[0m\n",
      "\u001b[?25hDownloading pydantic_core-2.20.1-cp312-cp312-macosx_11_0_arm64.whl (1.8 MB)\n",
      "\u001b[2K   \u001b[38;2;114;156;31m━━━━━━━━━━━━━━━━━━━━━━━━━━━━━━━━━━━━━━━━\u001b[0m \u001b[32m1.8/1.8 MB\u001b[0m \u001b[31m55.5 MB/s\u001b[0m eta \u001b[36m0:00:00\u001b[0m\n",
      "\u001b[?25hDownloading regex-2024.7.24-cp312-cp312-macosx_11_0_arm64.whl (279 kB)\n",
      "\u001b[2K   \u001b[38;2;114;156;31m━━━━━━━━━━━━━━━━━━━━━━━━━━━━━━━━━━━━━━━━\u001b[0m \u001b[32m279.1/279.1 kB\u001b[0m \u001b[31m28.3 MB/s\u001b[0m eta \u001b[36m0:00:00\u001b[0m\n",
      "\u001b[?25hDownloading tqdm-4.66.5-py3-none-any.whl (78 kB)\n",
      "\u001b[2K   \u001b[38;2;114;156;31m━━━━━━━━━━━━━━━━━━━━━━━━━━━━━━━━━━━━━━━━\u001b[0m \u001b[32m78.4/78.4 kB\u001b[0m \u001b[31m9.3 MB/s\u001b[0m eta \u001b[36m0:00:00\u001b[0m\n",
      "\u001b[?25hDownloading typing_extensions-4.12.2-py3-none-any.whl (37 kB)\n",
      "Downloading annotated_types-0.7.0-py3-none-any.whl (13 kB)\n",
      "Installing collected packages: typing-extensions, tqdm, regex, jiter, distro, annotated-types, tiktoken, pydantic-core, pydantic, openai\n",
      "Successfully installed annotated-types-0.7.0 distro-1.9.0 jiter-0.5.0 openai-1.43.0 pydantic-2.8.2 pydantic-core-2.20.1 regex-2024.7.24 tiktoken-0.7.0 tqdm-4.66.5 typing-extensions-4.12.2\n",
      "\n",
      "\u001b[1m[\u001b[0m\u001b[34;49mnotice\u001b[0m\u001b[1;39;49m]\u001b[0m\u001b[39;49m A new release of pip is available: \u001b[0m\u001b[31;49m24.0\u001b[0m\u001b[39;49m -> \u001b[0m\u001b[32;49m24.2\u001b[0m\n",
      "\u001b[1m[\u001b[0m\u001b[34;49mnotice\u001b[0m\u001b[1;39;49m]\u001b[0m\u001b[39;49m To update, run: \u001b[0m\u001b[32;49mpip install --upgrade pip\u001b[0m\n"
     ]
    }
   ],
   "source": [
    "!pip install openai tiktoken"
   ]
  },
  {
   "cell_type": "code",
   "execution_count": 2,
   "id": "3cb75905-7d6b-4aec-899d-0de959e51aa8",
   "metadata": {},
   "outputs": [
    {
     "name": "stdin",
     "output_type": "stream",
     "text": [
      " ········\n"
     ]
    }
   ],
   "source": [
    "import getpass\n",
    "import os\n",
    "\n",
    "os.environ[\"OPENAI_API_KEY\"] = getpass.getpass()"
   ]
  },
  {
   "cell_type": "code",
   "execution_count": 3,
   "id": "0420c768-58de-401b-a8b2-7938db4fa507",
   "metadata": {},
   "outputs": [],
   "source": [
    "from openai import OpenAI\n",
    "\n",
    "client = OpenAI()"
   ]
  },
  {
   "cell_type": "code",
   "execution_count": 4,
   "id": "e574ccc6-8e6d-44ae-b788-9f368f1779cb",
   "metadata": {},
   "outputs": [
    {
     "data": {
      "text/plain": [
       "<openai.OpenAI at 0x10ac97bc0>"
      ]
     },
     "execution_count": 4,
     "metadata": {},
     "output_type": "execute_result"
    }
   ],
   "source": [
    "client"
   ]
  },
  {
   "cell_type": "code",
   "execution_count": 5,
   "id": "c461847f-09b3-4a95-8c41-e2de3af0f8f9",
   "metadata": {},
   "outputs": [],
   "source": [
    "response = client.chat.completions.create(\n",
    "  model=\"gpt-4o-mini\",\n",
    "  messages=[\n",
    "      {\"role\": \"user\", \"content\": \"What are the best places in Korea?\"}\n",
    "  ],\n",
    "  temperature=1,\n",
    "  max_tokens=1024,\n",
    "  top_p=1,\n",
    "  frequency_penalty=0,\n",
    "  presence_penalty=0,\n",
    "  response_format={\n",
    "    \"type\": \"text\"\n",
    "  }\n",
    ")"
   ]
  },
  {
   "cell_type": "code",
   "execution_count": 6,
   "id": "f5103dc7-f0dc-42ce-a2e7-f635dfde011c",
   "metadata": {},
   "outputs": [
    {
     "data": {
      "text/plain": [
       "ChatCompletion(id='chatcmpl-A32FknGtpQyauQ1WIck7yZk6DcXJI', choices=[Choice(finish_reason='stop', index=0, logprobs=None, message=ChatCompletionMessage(content=\"Korea offers a diverse range of attractions, from bustling cities and historic sites to stunning natural landscapes. Here are some of the best places to visit in South Korea:\\n\\n### 1. **Seoul**\\n   - **Gyeongbokgung Palace**: The main royal palace of the Joseon dynasty, known for its beautiful architecture and changing of the guard ceremony.\\n   - **Bukchon Hanok Village**: A traditional village preserving Korean heritage with well-preserved hanok (traditional Korean houses).\\n   - **Myeongdong**: A vibrant shopping district famous for cosmetics, street food, and nightlife.\\n   - **N Seoul Tower**: A landmark tower offering panoramic views of the city.\\n\\n### 2. **Busan**\\n   - **Haeundae Beach**: One of South Korea's most famous beaches, ideal for sunbathing and water sports.\\n   - **Gamcheon Culture Village**: A colorful hillside village known for its artistic vibe and beautiful murals.\\n   - **Jagalchi Fish Market**: The largest seafood market in Korea, offering fresh catches and local delicacies.\\n\\n### 3. **Gyeongju**\\n   - **Bulguksa Temple and Seokguram Grotto**: UNESCO World Heritage sites showcasing stunning Buddhist architecture and art.\\n   - **Ancient Tombs**: Explore the historic tombs of Silla kings and queens in Daereungwon.\\n\\n### 4. **Jeju Island**\\n   - **Hallasan National Park**: Home to South Korea's highest peak, Hallasan, with beautiful hiking trails.\\n   - **Seongsan Ilchulbong (Sunrise Peak)**: A volcanic crater offering breathtaking sunrise views.\\n   - **Jeongbang Waterfall**: One of the few waterfalls in Asia that falls directly into the ocean.\\n\\n### 5. **Incheon**\\n   - **Incheon Grand Park**: A large park with beautiful landscapes, walking paths, and picnic areas.\\n   - **Songdo International Business District**: A modern, smart city with unique architecture and urban planning.\\n   - **Incheon Chinatown**: A historic area with vibrant shops and restaurants.\\n\\n### 6. **Suwon**\\n   - **Hwaseong Fortress**: A UNESCO World Heritage site with impressive walls, gates, and observation towers.\\n   - **Korean Folk Village**: A living museum showcasing traditional Korean culture and customs.\\n\\n### 7. **Sokcho**\\n   - **Seoraksan National Park**: Renowned for its stunning mountain scenery, hiking trails, and fall foliage.\\n   - **Abai Village**: A quaint village offering traditional Korean meals and a glimpse into North Korean defector history.\\n\\n### 8. **Andong**\\n   - **Hahoe Folk Village**: A well-preserved traditional village where you can experience Korean culture, including mask dances.\\n   - **Confucian Academies**: Explore the area's rich Confucian heritage and history.\\n\\n### 9. **Gangneung**\\n   - **Gyeongpo Beach**: A popular beach destination known for its beauty and relaxing atmosphere.\\n   - **Ojukheon**: The birthplace of the famous Korean artist and scholar, Shin Saimdang.\\n\\n### 10. **Pyeongchang**\\n   - **Alpensia Resort**: A winter sports destination that hosted the 2018 Winter Olympics, great for skiing and snowboarding.\\n   - **Daegwallyeong Sheep Farm**: Enjoy stunning views and the chance to see sheep grazing in open fields.\\n\\n### 11. **Jeonju**\\n   - **Jeonju Hanok Village**: A preserved area featuring traditional hanoks where you can taste local delicacies, especially bibimbap.\\n   - **Jeonju Sori Cultural Center**: A venue showcasing traditional Korean music and performances.\\n\\nThese locations represent just a sampling of the rich cultural heritage and natural beauty that South Korea has to offer. Each region has its unique charm, making it worthwhile to explore different parts of the country.\", refusal=None, role='assistant', function_call=None, tool_calls=None))], created=1725287008, model='gpt-4o-mini-2024-07-18', object='chat.completion', service_tier=None, system_fingerprint='fp_f33667828e', usage=CompletionUsage(completion_tokens=830, prompt_tokens=15, total_tokens=845))"
      ]
     },
     "execution_count": 6,
     "metadata": {},
     "output_type": "execute_result"
    }
   ],
   "source": [
    "response"
   ]
  },
  {
   "cell_type": "code",
   "execution_count": 7,
   "id": "9e8f38a6-b29e-4962-9370-9961ac8d45cb",
   "metadata": {},
   "outputs": [
    {
     "name": "stdout",
     "output_type": "stream",
     "text": [
      "Korea offers a diverse range of attractions, from bustling cities and historic sites to stunning natural landscapes. Here are some of the best places to visit in South Korea:\n",
      "\n",
      "### 1. **Seoul**\n",
      "   - **Gyeongbokgung Palace**: The main royal palace of the Joseon dynasty, known for its beautiful architecture and changing of the guard ceremony.\n",
      "   - **Bukchon Hanok Village**: A traditional village preserving Korean heritage with well-preserved hanok (traditional Korean houses).\n",
      "   - **Myeongdong**: A vibrant shopping district famous for cosmetics, street food, and nightlife.\n",
      "   - **N Seoul Tower**: A landmark tower offering panoramic views of the city.\n",
      "\n",
      "### 2. **Busan**\n",
      "   - **Haeundae Beach**: One of South Korea's most famous beaches, ideal for sunbathing and water sports.\n",
      "   - **Gamcheon Culture Village**: A colorful hillside village known for its artistic vibe and beautiful murals.\n",
      "   - **Jagalchi Fish Market**: The largest seafood market in Korea, offering fresh catches and local delicacies.\n",
      "\n",
      "### 3. **Gyeongju**\n",
      "   - **Bulguksa Temple and Seokguram Grotto**: UNESCO World Heritage sites showcasing stunning Buddhist architecture and art.\n",
      "   - **Ancient Tombs**: Explore the historic tombs of Silla kings and queens in Daereungwon.\n",
      "\n",
      "### 4. **Jeju Island**\n",
      "   - **Hallasan National Park**: Home to South Korea's highest peak, Hallasan, with beautiful hiking trails.\n",
      "   - **Seongsan Ilchulbong (Sunrise Peak)**: A volcanic crater offering breathtaking sunrise views.\n",
      "   - **Jeongbang Waterfall**: One of the few waterfalls in Asia that falls directly into the ocean.\n",
      "\n",
      "### 5. **Incheon**\n",
      "   - **Incheon Grand Park**: A large park with beautiful landscapes, walking paths, and picnic areas.\n",
      "   - **Songdo International Business District**: A modern, smart city with unique architecture and urban planning.\n",
      "   - **Incheon Chinatown**: A historic area with vibrant shops and restaurants.\n",
      "\n",
      "### 6. **Suwon**\n",
      "   - **Hwaseong Fortress**: A UNESCO World Heritage site with impressive walls, gates, and observation towers.\n",
      "   - **Korean Folk Village**: A living museum showcasing traditional Korean culture and customs.\n",
      "\n",
      "### 7. **Sokcho**\n",
      "   - **Seoraksan National Park**: Renowned for its stunning mountain scenery, hiking trails, and fall foliage.\n",
      "   - **Abai Village**: A quaint village offering traditional Korean meals and a glimpse into North Korean defector history.\n",
      "\n",
      "### 8. **Andong**\n",
      "   - **Hahoe Folk Village**: A well-preserved traditional village where you can experience Korean culture, including mask dances.\n",
      "   - **Confucian Academies**: Explore the area's rich Confucian heritage and history.\n",
      "\n",
      "### 9. **Gangneung**\n",
      "   - **Gyeongpo Beach**: A popular beach destination known for its beauty and relaxing atmosphere.\n",
      "   - **Ojukheon**: The birthplace of the famous Korean artist and scholar, Shin Saimdang.\n",
      "\n",
      "### 10. **Pyeongchang**\n",
      "   - **Alpensia Resort**: A winter sports destination that hosted the 2018 Winter Olympics, great for skiing and snowboarding.\n",
      "   - **Daegwallyeong Sheep Farm**: Enjoy stunning views and the chance to see sheep grazing in open fields.\n",
      "\n",
      "### 11. **Jeonju**\n",
      "   - **Jeonju Hanok Village**: A preserved area featuring traditional hanoks where you can taste local delicacies, especially bibimbap.\n",
      "   - **Jeonju Sori Cultural Center**: A venue showcasing traditional Korean music and performances.\n",
      "\n",
      "These locations represent just a sampling of the rich cultural heritage and natural beauty that South Korea has to offer. Each region has its unique charm, making it worthwhile to explore different parts of the country.\n"
     ]
    }
   ],
   "source": [
    "print(response.choices[0].message.content)"
   ]
  },
  {
   "cell_type": "code",
   "execution_count": 10,
   "id": "1f8bbb1d-52ab-4377-bc14-aa7ee62c5dc0",
   "metadata": {},
   "outputs": [],
   "source": [
    "response = client.chat.completions.create(\n",
    "  model=\"gpt-4o-mini\",\n",
    "  messages=[\n",
    "      {\"role\": \"user\", \"content\": \"What are the tourist attractions in Korea?\"}\n",
    "  ],\n",
    "  temperature=1,\n",
    "  max_tokens=1024,\n",
    "  top_p=1,\n",
    "  frequency_penalty=0,\n",
    "  presence_penalty=0,\n",
    "  response_format={\n",
    "    \"type\": \"text\"\n",
    "  }\n",
    ")"
   ]
  },
  {
   "cell_type": "code",
   "execution_count": 11,
   "id": "f31b03ce-d267-464f-a3ff-ae47f49f1c54",
   "metadata": {},
   "outputs": [
    {
     "name": "stdout",
     "output_type": "stream",
     "text": [
      "South Korea is rich in cultural heritage, natural beauty, and modern attractions. Here are some of the top tourist attractions across the country:\n",
      "\n",
      "### Seoul\n",
      "1. **Gyeongbokgung Palace**: A historic royal palace featuring traditional architecture and beautiful gardens.\n",
      "2. **N Seoul Tower**: An iconic tower offering panoramic views of the city.\n",
      "3. **Bukchon Hanok Village**: A traditional village with well-preserved hanok (Korean houses).\n",
      "4. **Myeongdong Shopping District**: A bustling area known for shopping, street food, and cosmetics.\n",
      "5. **Insadong**: A cultural district with tea houses, galleries, and handicraft shops.\n",
      "6. **Dongdaemun Design Plaza (DDP)**: A modern architectural marvel that hosts exhibitions and events.\n",
      "\n",
      "### Busan\n",
      "1. **Haeundae Beach**: A popular beach known for its vibrant atmosphere and festivals.\n",
      "2. **Gamcheon Culture Village**: A colorful hillside village filled with art and murals.\n",
      "3. **Jagalchi Fish Market**: Korea's largest seafood market, known for fresh fish and local dishes.\n",
      "4. **Taejongdae Resort Park**: A scenic coastal park featuring cliffs, a lighthouse, and walking trails.\n",
      "\n",
      "### Gyeongju\n",
      "1. **Bulguksa Temple**: A UNESCO World Heritage Site known for its stunning architecture and historical significance.\n",
      "2. **Seokguram Grotto**: An ancient Buddhist cave temple with a remarkable statue of Buddha.\n",
      "3. **Gyeongju Historic Areas**: Home to ancient tombs, palaces, and artifacts from the Silla Dynasty.\n",
      "\n",
      "### Jeju Island\n",
      "1. **Hallasan National Park**: Home to Hallasan Mountain, the highest peak in South Korea, with hiking trails and diverse flora and fauna.\n",
      "2. **Seongsan Ilchulbong (Sunrise Peak)**: A volcanic crater offering spectacular sunrise views.\n",
      "3. **Jeongbang Waterfall**: A picturesque waterfall that falls directly into the ocean.\n",
      "4. **Manjanggul Cave**: One of the longest lava tubes in the world, featuring unique geological formations.\n",
      "\n",
      "### Incheon\n",
      "1. **Incheon Chinatown**: The largest Chinatown in South Korea, featuring shops, restaurants, and cultural experiences.\n",
      "2. **Songdo International Business District**: A modern urban development known for its eco-friendly architecture and technology.\n",
      "\n",
      "### Other Attractions\n",
      "- **DMZ (Demilitarized Zone)**: A unique area providing insight into the division between North and South Korea with guided tours available.\n",
      "- **Suwon Hwaseong Fortress**: A UNESCO World Heritage site featuring a well-preserved fortress with impressive walls and gates.\n",
      "- **Andong Hahoe Folk Village**: A traditional village known for its cultural heritage and traditional housing.\n",
      "\n",
      "### Seasonal Attractions\n",
      "- **Cherry Blossom Festivals**: Springtime festivals held in various locations, including Seoul and Jinhae.\n",
      "- **Autumn Foliage**: Stunning autumn leaves can be seen in national parks and palaces in fall.\n",
      "\n",
      "These attractions offer a blend of history, culture, and natural beauty, making South Korea a diverse and exciting destination for tourists.\n"
     ]
    }
   ],
   "source": [
    "print(response.choices[0].message.content)"
   ]
  },
  {
   "cell_type": "markdown",
   "id": "8b1f4057-9232-4ea6-a72d-fac7275b4e3c",
   "metadata": {},
   "source": [
    "### best place 보다 tourist atrraction 이 질문의 의도에 더 명확하게 부합하는 embedding 값을 제공\n",
    "- 영어권 사람이라면 어떤 단어로 한국의 명소를 소개했을지.. 즉, 어떤 데이터로 학습했고 어떤 단어와 내가 알고 싶은 명소의 유사도가 클지 생각"
   ]
  },
  {
   "cell_type": "code",
   "execution_count": null,
   "id": "c3d46f88-c281-4c1a-803d-66da84ed2074",
   "metadata": {},
   "outputs": [],
   "source": []
  }
 ],
 "metadata": {
  "kernelspec": {
   "display_name": "Python 3 (ipykernel)",
   "language": "python",
   "name": "python3"
  },
  "language_info": {
   "codemirror_mode": {
    "name": "ipython",
    "version": 3
   },
   "file_extension": ".py",
   "mimetype": "text/x-python",
   "name": "python",
   "nbconvert_exporter": "python",
   "pygments_lexer": "ipython3",
   "version": "3.12.3"
  }
 },
 "nbformat": 4,
 "nbformat_minor": 5
}
